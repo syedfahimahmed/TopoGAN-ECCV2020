{
 "cells": [
  {
   "cell_type": "code",
   "execution_count": 1,
   "metadata": {
    "scrolled": true
   },
   "outputs": [
    {
     "name": "stdout",
     "output_type": "stream",
     "text": [
      "initialize network with normal\n",
      "initialize network with normal\n"
     ]
    },
    {
     "name": "stderr",
     "output_type": "stream",
     "text": [
      "C:\\ProgramData\\Anaconda3\\envs\\topo_gan\\lib\\site-packages\\ipykernel_launcher.py:342: DeprecationWarning: Call to deprecated class PersImage. (Replaced with the class `persim.PersistenceImager`.) -- Deprecated since version 0.1.5.\n"
     ]
    },
    {
     "name": "stdout",
     "output_type": "stream",
     "text": [
      "Image shape: (64, 64)\n",
      "Image value range: 0.00 - 255.00\n",
      "Image data type<class 'numpy.uint8'>\n",
      "Required data type is np.uint8\n",
      "Reference persistence diagram read complete.\n",
      "Reference persistence diagram extracted from dimension 0.\n",
      "Compute wasserstein distance between 128 and 200\n",
      "Computing 1D 1-wasserstein distance.\n",
      "Computing 1D 1-wasserstein distance.\n",
      "Computing 1D 1-wasserstein distance.\n",
      "Computing 1D 1-wasserstein distance.\n",
      "Computing 1D 1-wasserstein distance.\n",
      "Computing 1D 1-wasserstein distance.\n",
      "Computing 1D 1-wasserstein distance.\n",
      "Computing 1D 1-wasserstein distance.\n",
      "Computing 1D 1-wasserstein distance.\n",
      "Computing 1D 1-wasserstein distance.\n",
      "Computing 1D 1-wasserstein distance.\n",
      "Computing 1D 1-wasserstein distance.\n",
      "Computing 1D 1-wasserstein distance.\n",
      "Computing 1D 1-wasserstein distance.\n",
      "Computing 1D 1-wasserstein distance.\n",
      "Computing 1D 1-wasserstein distance.\n",
      "Computing 1D 1-wasserstein distance.\n",
      "Computing 1D 1-wasserstein distance.\n",
      "Computing 1D 1-wasserstein distance.\n",
      "Computing 1D 1-wasserstein distance.\n",
      "[6/2000][9/15] D_loss: -71.2105 G_loss: -29.0209 T_loss: 104.1805 Wasserstein_dist: 0.0617 Step: 100\n",
      "Computing 1D 1-wasserstein distance.\n",
      "Computing 1D 1-wasserstein distance.\n",
      "Computing 1D 1-wasserstein distance.\n",
      "Computing 1D 1-wasserstein distance.\n",
      "Computing 1D 1-wasserstein distance.\n",
      "Computing 1D 1-wasserstein distance.\n",
      "Computing 1D 1-wasserstein distance.\n",
      "Computing 1D 1-wasserstein distance.\n",
      "Computing 1D 1-wasserstein distance.\n",
      "Computing 1D 1-wasserstein distance.\n",
      "Computing 1D 1-wasserstein distance.\n",
      "Computing 1D 1-wasserstein distance.\n",
      "Computing 1D 1-wasserstein distance.\n",
      "Computing 1D 1-wasserstein distance.\n",
      "Computing 1D 1-wasserstein distance.\n",
      "Computing 1D 1-wasserstein distance.\n",
      "Computing 1D 1-wasserstein distance.\n",
      "Computing 1D 1-wasserstein distance.\n",
      "Computing 1D 1-wasserstein distance.\n",
      "Computing 1D 1-wasserstein distance.\n",
      "Computing 1D 1-wasserstein distance.\n",
      "[13/2000][4/15] D_loss: -62.4414 G_loss: -37.3801 T_loss: -1.0326 Wasserstein_dist: 0.0000 Step: 200\n",
      "Computing 1D 1-wasserstein distance.\n",
      "Computing 1D 1-wasserstein distance.\n",
      "Computing 1D 1-wasserstein distance.\n",
      "Computing 1D 1-wasserstein distance.\n",
      "Computing 1D 1-wasserstein distance.\n",
      "Computing 1D 1-wasserstein distance.\n",
      "Computing 1D 1-wasserstein distance.\n",
      "Computing 1D 1-wasserstein distance.\n",
      "Computing 1D 1-wasserstein distance.\n",
      "Computing 1D 1-wasserstein distance.\n",
      "Computing 1D 1-wasserstein distance.\n",
      "Computing 1D 1-wasserstein distance.\n",
      "Computing 1D 1-wasserstein distance.\n",
      "Computing 1D 1-wasserstein distance.\n",
      "Computing 1D 1-wasserstein distance.\n",
      "Computing 1D 1-wasserstein distance.\n",
      "Computing 1D 1-wasserstein distance.\n",
      "Computing 1D 1-wasserstein distance.\n",
      "Computing 1D 1-wasserstein distance.\n",
      "Computing 1D 1-wasserstein distance.\n",
      "Computing 1D 1-wasserstein distance.\n",
      "[19/2000][14/15] D_loss: -57.2488 G_loss: -13.1065 T_loss: -62.7853 Wasserstein_dist: 0.0000 Step: 300\n",
      "Computing 1D 1-wasserstein distance.\n",
      "Computing 1D 1-wasserstein distance.\n",
      "Computing 1D 1-wasserstein distance.\n",
      "Computing 1D 1-wasserstein distance.\n",
      "Computing 1D 1-wasserstein distance.\n",
      "Computing 1D 1-wasserstein distance.\n",
      "Computing 1D 1-wasserstein distance.\n",
      "Computing 1D 1-wasserstein distance.\n",
      "Computing 1D 1-wasserstein distance.\n"
     ]
    },
    {
     "ename": "IndexError",
     "evalue": "index 0 is out of bounds for axis 0 with size 0",
     "output_type": "error",
     "traceback": [
      "\u001b[1;31m---------------------------------------------------------------------------\u001b[0m",
      "\u001b[1;31mIndexError\u001b[0m                                Traceback (most recent call last)",
      "\u001b[1;32m~\\AppData\\Local\\Temp\\ipykernel_27488\\2540625332.py\u001b[0m in \u001b[0;36m<module>\u001b[1;34m\u001b[0m\n\u001b[0;32m     42\u001b[0m \u001b[1;33m\u001b[0m\u001b[0m\n\u001b[0;32m     43\u001b[0m \u001b[1;32mif\u001b[0m \u001b[0m__name__\u001b[0m\u001b[1;33m==\u001b[0m\u001b[1;34m'__main__'\u001b[0m\u001b[1;33m:\u001b[0m\u001b[1;33m\u001b[0m\u001b[1;33m\u001b[0m\u001b[0m\n\u001b[1;32m---> 44\u001b[1;33m     \u001b[0mrun\u001b[0m\u001b[1;33m(\u001b[0m\u001b[1;33m)\u001b[0m\u001b[1;33m\u001b[0m\u001b[1;33m\u001b[0m\u001b[0m\n\u001b[0m\u001b[0;32m     45\u001b[0m     \u001b[1;31m#precompute_pds('C:/Users/nelsite/Desktop/Coding_with_Fahim/Topological_Segmentation/TopoSegNetSimple/Datas/CREMI_AB_64_64_train_0_png/boundaries',\u001b[0m\u001b[1;33m\u001b[0m\u001b[1;33m\u001b[0m\u001b[1;33m\u001b[0m\u001b[0m\n\u001b[0;32m     46\u001b[0m                    \u001b[1;31m#'C:/Users/nelsite/Desktop/Coding_with_Fahim/Topological_Segmentation/TopoSegNetSimple/Datas/CREMI_AB_64_64_train_0_png/pds')\u001b[0m\u001b[1;33m\u001b[0m\u001b[1;33m\u001b[0m\u001b[1;33m\u001b[0m\u001b[0m\n",
      "\u001b[1;32m~\\AppData\\Local\\Temp\\ipykernel_27488\\2540625332.py\u001b[0m in \u001b[0;36mrun\u001b[1;34m()\u001b[0m\n\u001b[0;32m     37\u001b[0m \u001b[1;32mdef\u001b[0m \u001b[0mrun\u001b[0m\u001b[1;33m(\u001b[0m\u001b[1;33m)\u001b[0m\u001b[1;33m:\u001b[0m\u001b[1;33m\u001b[0m\u001b[1;33m\u001b[0m\u001b[0m\n\u001b[0;32m     38\u001b[0m     \u001b[0mgan\u001b[0m \u001b[1;33m=\u001b[0m \u001b[0mGAN\u001b[0m\u001b[1;33m(\u001b[0m\u001b[0mgeneral\u001b[0m\u001b[1;33m,\u001b[0m \u001b[0madv_params\u001b[0m\u001b[1;33m,\u001b[0m \u001b[0mG_arch\u001b[0m\u001b[1;33m,\u001b[0m \u001b[0mD_arch\u001b[0m\u001b[1;33m)\u001b[0m\u001b[1;33m\u001b[0m\u001b[1;33m\u001b[0m\u001b[0m\n\u001b[1;32m---> 39\u001b[1;33m     \u001b[0mgan\u001b[0m\u001b[1;33m.\u001b[0m\u001b[0mtrain\u001b[0m\u001b[1;33m(\u001b[0m\u001b[0mdata_params\u001b[0m\u001b[1;33m,\u001b[0m \u001b[1;32mTrue\u001b[0m\u001b[1;33m)\u001b[0m\u001b[1;33m\u001b[0m\u001b[1;33m\u001b[0m\u001b[0m\n\u001b[0m\u001b[0;32m     40\u001b[0m     \u001b[1;31m#gan.sample_save_(\"20000_128_1_1_0.dat\", [20000, 128, 1, 1], \"D:/Data/isbi/2w/compare_SN0\", 127.5, 0)\u001b[0m\u001b[1;33m\u001b[0m\u001b[1;33m\u001b[0m\u001b[1;33m\u001b[0m\u001b[0m\n\u001b[0;32m     41\u001b[0m     \u001b[1;31m#gan.save_noise_([20000, 128, 1, 1], \"20000_128_1_1_2.dat\")\u001b[0m\u001b[1;33m\u001b[0m\u001b[1;33m\u001b[0m\u001b[1;33m\u001b[0m\u001b[0m\n",
      "\u001b[1;32m~\\AppData\\Local\\Temp\\ipykernel_27488\\661775003.py\u001b[0m in \u001b[0;36mtrain\u001b[1;34m(self, data_params, withTopo)\u001b[0m\n\u001b[0;32m    130\u001b[0m                 \u001b[1;32mif\u001b[0m \u001b[0mstep\u001b[0m \u001b[1;33m%\u001b[0m \u001b[0mself\u001b[0m\u001b[1;33m.\u001b[0m\u001b[0mN_critic\u001b[0m \u001b[1;33m==\u001b[0m \u001b[1;36m0\u001b[0m\u001b[1;33m:\u001b[0m\u001b[1;33m\u001b[0m\u001b[1;33m\u001b[0m\u001b[0m\n\u001b[0;32m    131\u001b[0m                     \u001b[0mDfake_device\u001b[0m \u001b[1;33m=\u001b[0m \u001b[0mself\u001b[0m\u001b[1;33m.\u001b[0m\u001b[0msample_\u001b[0m\u001b[1;33m(\u001b[0m\u001b[1;33m[\u001b[0m\u001b[0mdata\u001b[0m\u001b[1;33m[\u001b[0m\u001b[1;34m'image'\u001b[0m\u001b[1;33m]\u001b[0m\u001b[1;33m.\u001b[0m\u001b[0mshape\u001b[0m\u001b[1;33m[\u001b[0m\u001b[1;36m0\u001b[0m\u001b[1;33m]\u001b[0m\u001b[1;33m]\u001b[0m\u001b[1;33m+\u001b[0m\u001b[0mself\u001b[0m\u001b[1;33m.\u001b[0m\u001b[0minputG_dims\u001b[0m\u001b[1;33m)\u001b[0m\u001b[1;33m\u001b[0m\u001b[1;33m\u001b[0m\u001b[0m\n\u001b[1;32m--> 132\u001b[1;33m                     \u001b[0mg_lrec\u001b[0m\u001b[1;33m.\u001b[0m\u001b[0mappend\u001b[0m\u001b[1;33m(\u001b[0m\u001b[0mself\u001b[0m\u001b[1;33m.\u001b[0m\u001b[0mG_iteration\u001b[0m\u001b[1;33m(\u001b[0m\u001b[0mDfake_device\u001b[0m\u001b[1;33m,\u001b[0m \u001b[0mwithTopo\u001b[0m\u001b[1;33m)\u001b[0m\u001b[1;33m)\u001b[0m\u001b[1;33m\u001b[0m\u001b[1;33m\u001b[0m\u001b[0m\n\u001b[0m\u001b[0;32m    133\u001b[0m                 \u001b[0mstep\u001b[0m \u001b[1;33m=\u001b[0m \u001b[0mstep\u001b[0m \u001b[1;33m+\u001b[0m \u001b[1;36m1\u001b[0m\u001b[1;33m\u001b[0m\u001b[1;33m\u001b[0m\u001b[0m\n\u001b[0;32m    134\u001b[0m \u001b[1;33m\u001b[0m\u001b[0m\n",
      "\u001b[1;32m~\\AppData\\Local\\Temp\\ipykernel_27488\\661775003.py\u001b[0m in \u001b[0;36mG_iteration\u001b[1;34m(self, Dfake_device, withTopo)\u001b[0m\n\u001b[0;32m     91\u001b[0m             \u001b[0mtp_wgt\u001b[0m   \u001b[1;33m=\u001b[0m \u001b[0mself\u001b[0m\u001b[1;33m.\u001b[0m\u001b[0met\u001b[0m\u001b[1;33m.\u001b[0m\u001b[0mreturn_tp_weight\u001b[0m\u001b[1;33m(\u001b[0m\u001b[1;33m)\u001b[0m\u001b[1;33m\u001b[0m\u001b[1;33m\u001b[0m\u001b[0m\n\u001b[0;32m     92\u001b[0m             fake_fix, mean_wasdis = self.et.fix_with_topo(Dfake_device.detach().cpu().numpy(),\n\u001b[1;32m---> 93\u001b[1;33m                                     self.et.return_target_dim(), -1.0, 1.0, blind=self.et.blind())\n\u001b[0m\u001b[0;32m     94\u001b[0m             \u001b[0mfake_fix\u001b[0m \u001b[1;33m=\u001b[0m \u001b[0mtorch\u001b[0m\u001b[1;33m.\u001b[0m\u001b[0mfrom_numpy\u001b[0m\u001b[1;33m(\u001b[0m\u001b[0mfake_fix\u001b[0m\u001b[1;33m)\u001b[0m\u001b[1;33m.\u001b[0m\u001b[0mto\u001b[0m\u001b[1;33m(\u001b[0m\u001b[0mself\u001b[0m\u001b[1;33m.\u001b[0m\u001b[0mdevice\u001b[0m\u001b[1;33m)\u001b[0m\u001b[1;33m\u001b[0m\u001b[1;33m\u001b[0m\u001b[0m\n\u001b[0;32m     95\u001b[0m             \u001b[0merrT\u001b[0m     \u001b[1;33m=\u001b[0m \u001b[0mself\u001b[0m\u001b[1;33m.\u001b[0m\u001b[0mcriterionT\u001b[0m\u001b[1;33m(\u001b[0m\u001b[1;33m[\u001b[0m\u001b[0mDfake_device\u001b[0m\u001b[1;33m,\u001b[0m \u001b[0mfake_fix\u001b[0m\u001b[1;33m]\u001b[0m\u001b[1;33m)\u001b[0m \u001b[1;33m*\u001b[0m \u001b[0mtp_wgt\u001b[0m\u001b[1;33m\u001b[0m\u001b[1;33m\u001b[0m\u001b[0m\n",
      "\u001b[1;32m~\\AppData\\Local\\Temp\\ipykernel_27488\\1006178858.py\u001b[0m in \u001b[0;36mfix_with_topo\u001b[1;34m(self, gen, dim, value, wassertein_dist, blind)\u001b[0m\n\u001b[0;32m    100\u001b[0m             \u001b[0mB\u001b[0m\u001b[1;33m,\u001b[0m \u001b[0mD\u001b[0m\u001b[1;33m,\u001b[0m \u001b[0mset1\u001b[0m \u001b[1;33m=\u001b[0m \u001b[0mUtility_topo\u001b[0m\u001b[1;33m.\u001b[0m\u001b[0mtopo_filter_retmat_mul\u001b[0m\u001b[1;33m(\u001b[0m\u001b[0mB\u001b[0m\u001b[1;33m,\u001b[0m \u001b[0mD\u001b[0m\u001b[1;33m,\u001b[0m \u001b[0mset1\u001b[0m\u001b[1;33m,\u001b[0m \u001b[0mself\u001b[0m\u001b[1;33m.\u001b[0m\u001b[0mtopo_threshold\u001b[0m\u001b[1;33m)\u001b[0m\u001b[1;33m\u001b[0m\u001b[1;33m\u001b[0m\u001b[0m\n\u001b[0;32m    101\u001b[0m         \u001b[1;32mif\u001b[0m \u001b[0mself\u001b[0m\u001b[1;33m.\u001b[0m\u001b[0mproject2dim\u001b[0m \u001b[1;33m>=\u001b[0m \u001b[1;36m0\u001b[0m\u001b[1;33m:\u001b[0m\u001b[1;33m\u001b[0m\u001b[1;33m\u001b[0m\u001b[0m\n\u001b[1;32m--> 102\u001b[1;33m             \u001b[0mset1\u001b[0m \u001b[1;33m=\u001b[0m \u001b[0mUtility_topo\u001b[0m\u001b[1;33m.\u001b[0m\u001b[0mextract_dim_from_list\u001b[0m\u001b[1;33m(\u001b[0m\u001b[0mset1\u001b[0m\u001b[1;33m,\u001b[0m \u001b[0mself\u001b[0m\u001b[1;33m.\u001b[0m\u001b[0mproject2dim\u001b[0m\u001b[1;33m)\u001b[0m\u001b[1;33m\u001b[0m\u001b[1;33m\u001b[0m\u001b[0m\n\u001b[0m\u001b[0;32m    103\u001b[0m         \u001b[1;32mif\u001b[0m \u001b[0mblind\u001b[0m\u001b[1;33m:\u001b[0m\u001b[1;33m\u001b[0m\u001b[1;33m\u001b[0m\u001b[0m\n\u001b[0;32m    104\u001b[0m             \u001b[0mforce\u001b[0m \u001b[1;33m=\u001b[0m \u001b[0mUtility_topo\u001b[0m\u001b[1;33m.\u001b[0m\u001b[0mtopo_force_blind_\u001b[0m\u001b[1;33m(\u001b[0m\u001b[0mset1\u001b[0m\u001b[1;33m,\u001b[0m \u001b[0mdim\u001b[0m\u001b[1;33m)\u001b[0m\u001b[1;33m\u001b[0m\u001b[1;33m\u001b[0m\u001b[0m\n",
      "\u001b[1;32m~\\AppData\\Local\\Temp\\ipykernel_27488\\3824689951.py\u001b[0m in \u001b[0;36mextract_dim_from_list\u001b[1;34m(d, dim)\u001b[0m\n\u001b[0;32m     42\u001b[0m         \u001b[0mwhere\u001b[0m \u001b[0mnum_\u001b[0m \u001b[0mdepends\u001b[0m \u001b[0mon\u001b[0m \u001b[0mthe\u001b[0m \u001b[0mparticular\u001b[0m \u001b[0mitem\u001b[0m\u001b[1;33m\u001b[0m\u001b[1;33m\u001b[0m\u001b[0m\n\u001b[0;32m     43\u001b[0m         \"\"\"\n\u001b[1;32m---> 44\u001b[1;33m         \u001b[1;32massert\u001b[0m\u001b[1;33m(\u001b[0m\u001b[0mdim\u001b[0m \u001b[1;33m<\u001b[0m \u001b[0mlen\u001b[0m\u001b[1;33m(\u001b[0m\u001b[0md\u001b[0m\u001b[1;33m[\u001b[0m\u001b[1;36m0\u001b[0m\u001b[1;33m]\u001b[0m\u001b[1;33m[\u001b[0m\u001b[1;36m0\u001b[0m\u001b[1;33m]\u001b[0m\u001b[1;33m)\u001b[0m\u001b[1;33m)\u001b[0m\u001b[1;33m\u001b[0m\u001b[1;33m\u001b[0m\u001b[0m\n\u001b[0m\u001b[0;32m     45\u001b[0m         \u001b[0mN\u001b[0m   \u001b[1;33m=\u001b[0m \u001b[0mlen\u001b[0m\u001b[1;33m(\u001b[0m\u001b[0md\u001b[0m\u001b[1;33m)\u001b[0m\u001b[1;33m\u001b[0m\u001b[1;33m\u001b[0m\u001b[0m\n\u001b[0;32m     46\u001b[0m         \u001b[0mres\u001b[0m \u001b[1;33m=\u001b[0m \u001b[1;33m[\u001b[0m\u001b[1;32mNone\u001b[0m\u001b[1;33m]\u001b[0m \u001b[1;33m*\u001b[0m \u001b[0mN\u001b[0m\u001b[1;33m\u001b[0m\u001b[1;33m\u001b[0m\u001b[0m\n",
      "\u001b[1;31mIndexError\u001b[0m: index 0 is out of bounds for axis 0 with size 0"
     ]
    }
   ],
   "source": [
    "import sys\n",
    "# python library compile from cpp\n",
    "sys.path.insert(0, './persis_lib_cpp')\n",
    "from persis_homo_optimal import *\n",
    "\n",
    "%run Archpool.ipynb\n",
    "%run Argparser.ipynb\n",
    "%run GAN.ipynb\n",
    "\n",
    "settings    = return_settings()\n",
    "parser      = Argparser(settings)\n",
    "general     = return_general(0)\n",
    "G_arch      = return_arch(2)\n",
    "D_arch      = return_arch(3)\n",
    "data_params = return_data_settings(0)\n",
    "adv_params  = return_advanced_params()\n",
    "\n",
    "def compute_fid(paths, batch_size=50, dims=2048):\n",
    "    '''\n",
    "    reference: https://github.com/mseitzer/pytorch-fid\n",
    "    dims choices: 64, 192, 768, 2048\n",
    "    lower score means better quality\n",
    "    paths: [folderA, folderB]\n",
    "    '''\n",
    "    %run fid/inception.ipynb\n",
    "    %run fid/fid_score.ipynb\n",
    "    \n",
    "    os.environ['CUDA_VISIBLE_DEVICES']='0'\n",
    "    fid_value = calculate_fid_given_paths(paths, batch_size, True, dims)\n",
    "    print('FID: ', fid_value)\n",
    "    \n",
    "def precompute_pds(dir_in, dir_out):\n",
    "    adv_params = return_advanced_params()\n",
    "    et = Edges_(adv_params, False)\n",
    "    FileIO.compute_pd_save(dir_in, dir_out, \"png\", adv_params, 1, True)\n",
    "\n",
    "def run():\n",
    "    gan = GAN(general, adv_params, G_arch, D_arch)\n",
    "    gan.train(data_params, True)\n",
    "    #gan.sample_save_(\"20000_128_1_1_0.dat\", [20000, 128, 1, 1], \"D:/Data/isbi/2w/compare_SN0\", 127.5, 0)\n",
    "    #gan.save_noise_([20000, 128, 1, 1], \"20000_128_1_1_2.dat\")\n",
    "\n",
    "if __name__=='__main__':\n",
    "    run()\n",
    "    #precompute_pds('C:/Users/nelsite/Desktop/Coding_with_Fahim/Topological_Segmentation/TopoSegNetSimple/Datas/CREMI_AB_64_64_train_0_png/boundaries',\n",
    "                   #'C:/Users/nelsite/Desktop/Coding_with_Fahim/Topological_Segmentation/TopoSegNetSimple/Datas/CREMI_AB_64_64_train_0_png/pds')\n",
    "    #compute_fid([\"D:/Data/facades/facade128\", \"D:/Data/facades/match0.0005\"])"
   ]
  },
  {
   "cell_type": "code",
   "execution_count": null,
   "metadata": {},
   "outputs": [],
   "source": []
  }
 ],
 "metadata": {
  "kernelspec": {
   "display_name": "Python 3 (ipykernel)",
   "language": "python",
   "name": "python3"
  },
  "language_info": {
   "codemirror_mode": {
    "name": "ipython",
    "version": 3
   },
   "file_extension": ".py",
   "mimetype": "text/x-python",
   "name": "python",
   "nbconvert_exporter": "python",
   "pygments_lexer": "ipython3",
   "version": "3.7.12"
  },
  "toc": {
   "base_numbering": 1,
   "nav_menu": {},
   "number_sections": true,
   "sideBar": true,
   "skip_h1_title": false,
   "title_cell": "Table of Contents",
   "title_sidebar": "Contents",
   "toc_cell": false,
   "toc_position": {},
   "toc_section_display": true,
   "toc_window_display": false
  },
  "vscode": {
   "interpreter": {
    "hash": "c427d358109a68739b592cd7c9436d87512ddabfb8edf4c5359ed8348eaf8cbe"
   }
  }
 },
 "nbformat": 4,
 "nbformat_minor": 2
}
